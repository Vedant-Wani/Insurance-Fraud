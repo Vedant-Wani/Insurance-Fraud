{
 "cells": [
  {
   "cell_type": "code",
   "execution_count": 1,
   "id": "ff213741",
   "metadata": {},
   "outputs": [],
   "source": [
    "import pandas as pd\n",
    "import numpy as np"
   ]
  },
  {
   "cell_type": "code",
   "execution_count": 2,
   "id": "853da327",
   "metadata": {},
   "outputs": [],
   "source": [
    "data = pd.read_excel('/Users/sanchitwani/Documents/Insurance Fraud/Worksheet in Case Study question 2.xlsx')"
   ]
  },
  {
   "cell_type": "code",
   "execution_count": 3,
   "id": "7eb96410",
   "metadata": {},
   "outputs": [
    {
     "data": {
      "text/html": [
       "<div>\n",
       "<style scoped>\n",
       "    .dataframe tbody tr th:only-of-type {\n",
       "        vertical-align: middle;\n",
       "    }\n",
       "\n",
       "    .dataframe tbody tr th {\n",
       "        vertical-align: top;\n",
       "    }\n",
       "\n",
       "    .dataframe thead th {\n",
       "        text-align: right;\n",
       "    }\n",
       "</style>\n",
       "<table border=\"1\" class=\"dataframe\">\n",
       "  <thead>\n",
       "    <tr style=\"text-align: right;\">\n",
       "      <th></th>\n",
       "      <th>months_as_customer</th>\n",
       "      <th>age</th>\n",
       "      <th>policy_number</th>\n",
       "      <th>policy_bind_date</th>\n",
       "      <th>policy_state</th>\n",
       "      <th>policy_csl</th>\n",
       "      <th>policy_deductable</th>\n",
       "      <th>policy_annual_premium</th>\n",
       "      <th>umbrella_limit</th>\n",
       "      <th>insured_zip</th>\n",
       "      <th>...</th>\n",
       "      <th>witnesses</th>\n",
       "      <th>police_report_available</th>\n",
       "      <th>total_claim_amount</th>\n",
       "      <th>injury_claim</th>\n",
       "      <th>property_claim</th>\n",
       "      <th>vehicle_claim</th>\n",
       "      <th>auto_make</th>\n",
       "      <th>auto_model</th>\n",
       "      <th>auto_year</th>\n",
       "      <th>fraud_reported</th>\n",
       "    </tr>\n",
       "  </thead>\n",
       "  <tbody>\n",
       "    <tr>\n",
       "      <th>0</th>\n",
       "      <td>328</td>\n",
       "      <td>48</td>\n",
       "      <td>521585</td>\n",
       "      <td>2014-10-17</td>\n",
       "      <td>OH</td>\n",
       "      <td>250/500</td>\n",
       "      <td>1000</td>\n",
       "      <td>1406.91</td>\n",
       "      <td>0</td>\n",
       "      <td>466132</td>\n",
       "      <td>...</td>\n",
       "      <td>2</td>\n",
       "      <td>YES</td>\n",
       "      <td>71610</td>\n",
       "      <td>6510</td>\n",
       "      <td>13020</td>\n",
       "      <td>52080</td>\n",
       "      <td>Saab</td>\n",
       "      <td>92x</td>\n",
       "      <td>2004</td>\n",
       "      <td>Y</td>\n",
       "    </tr>\n",
       "    <tr>\n",
       "      <th>1</th>\n",
       "      <td>228</td>\n",
       "      <td>42</td>\n",
       "      <td>342868</td>\n",
       "      <td>2006-06-27</td>\n",
       "      <td>IN</td>\n",
       "      <td>250/500</td>\n",
       "      <td>2000</td>\n",
       "      <td>1197.22</td>\n",
       "      <td>5000000</td>\n",
       "      <td>468176</td>\n",
       "      <td>...</td>\n",
       "      <td>0</td>\n",
       "      <td>?</td>\n",
       "      <td>5070</td>\n",
       "      <td>780</td>\n",
       "      <td>780</td>\n",
       "      <td>3510</td>\n",
       "      <td>Mercedes</td>\n",
       "      <td>E400</td>\n",
       "      <td>2007</td>\n",
       "      <td>Y</td>\n",
       "    </tr>\n",
       "    <tr>\n",
       "      <th>2</th>\n",
       "      <td>134</td>\n",
       "      <td>29</td>\n",
       "      <td>687698</td>\n",
       "      <td>2000-09-06</td>\n",
       "      <td>OH</td>\n",
       "      <td>100/300</td>\n",
       "      <td>2000</td>\n",
       "      <td>1413.14</td>\n",
       "      <td>5000000</td>\n",
       "      <td>430632</td>\n",
       "      <td>...</td>\n",
       "      <td>3</td>\n",
       "      <td>NO</td>\n",
       "      <td>34650</td>\n",
       "      <td>7700</td>\n",
       "      <td>3850</td>\n",
       "      <td>23100</td>\n",
       "      <td>Dodge</td>\n",
       "      <td>RAM</td>\n",
       "      <td>2007</td>\n",
       "      <td>N</td>\n",
       "    </tr>\n",
       "    <tr>\n",
       "      <th>3</th>\n",
       "      <td>256</td>\n",
       "      <td>41</td>\n",
       "      <td>227811</td>\n",
       "      <td>1990-05-25</td>\n",
       "      <td>IL</td>\n",
       "      <td>250/500</td>\n",
       "      <td>2000</td>\n",
       "      <td>1415.74</td>\n",
       "      <td>6000000</td>\n",
       "      <td>608117</td>\n",
       "      <td>...</td>\n",
       "      <td>2</td>\n",
       "      <td>NO</td>\n",
       "      <td>63400</td>\n",
       "      <td>6340</td>\n",
       "      <td>6340</td>\n",
       "      <td>50720</td>\n",
       "      <td>Chevrolet</td>\n",
       "      <td>Tahoe</td>\n",
       "      <td>2014</td>\n",
       "      <td>Y</td>\n",
       "    </tr>\n",
       "    <tr>\n",
       "      <th>4</th>\n",
       "      <td>228</td>\n",
       "      <td>44</td>\n",
       "      <td>367455</td>\n",
       "      <td>2014-06-06</td>\n",
       "      <td>IL</td>\n",
       "      <td>500/1000</td>\n",
       "      <td>1000</td>\n",
       "      <td>1583.91</td>\n",
       "      <td>6000000</td>\n",
       "      <td>610706</td>\n",
       "      <td>...</td>\n",
       "      <td>1</td>\n",
       "      <td>NO</td>\n",
       "      <td>6500</td>\n",
       "      <td>1300</td>\n",
       "      <td>650</td>\n",
       "      <td>4550</td>\n",
       "      <td>Accura</td>\n",
       "      <td>RSX</td>\n",
       "      <td>2009</td>\n",
       "      <td>N</td>\n",
       "    </tr>\n",
       "  </tbody>\n",
       "</table>\n",
       "<p>5 rows × 39 columns</p>\n",
       "</div>"
      ],
      "text/plain": [
       "   months_as_customer  age  policy_number policy_bind_date policy_state  \\\n",
       "0                 328   48         521585       2014-10-17           OH   \n",
       "1                 228   42         342868       2006-06-27           IN   \n",
       "2                 134   29         687698       2000-09-06           OH   \n",
       "3                 256   41         227811       1990-05-25           IL   \n",
       "4                 228   44         367455       2014-06-06           IL   \n",
       "\n",
       "  policy_csl  policy_deductable  policy_annual_premium  umbrella_limit  \\\n",
       "0    250/500               1000                1406.91               0   \n",
       "1    250/500               2000                1197.22         5000000   \n",
       "2    100/300               2000                1413.14         5000000   \n",
       "3    250/500               2000                1415.74         6000000   \n",
       "4   500/1000               1000                1583.91         6000000   \n",
       "\n",
       "   insured_zip  ... witnesses police_report_available total_claim_amount  \\\n",
       "0       466132  ...         2                     YES              71610   \n",
       "1       468176  ...         0                       ?               5070   \n",
       "2       430632  ...         3                      NO              34650   \n",
       "3       608117  ...         2                      NO              63400   \n",
       "4       610706  ...         1                      NO               6500   \n",
       "\n",
       "  injury_claim property_claim  vehicle_claim  auto_make auto_model auto_year  \\\n",
       "0         6510          13020          52080       Saab        92x      2004   \n",
       "1          780            780           3510   Mercedes       E400      2007   \n",
       "2         7700           3850          23100      Dodge        RAM      2007   \n",
       "3         6340           6340          50720  Chevrolet      Tahoe      2014   \n",
       "4         1300            650           4550     Accura        RSX      2009   \n",
       "\n",
       "  fraud_reported  \n",
       "0              Y  \n",
       "1              Y  \n",
       "2              N  \n",
       "3              Y  \n",
       "4              N  \n",
       "\n",
       "[5 rows x 39 columns]"
      ]
     },
     "execution_count": 3,
     "metadata": {},
     "output_type": "execute_result"
    }
   ],
   "source": [
    "data.head()"
   ]
  },
  {
   "cell_type": "code",
   "execution_count": 4,
   "id": "d549dcc1",
   "metadata": {},
   "outputs": [
    {
     "data": {
      "text/plain": [
       "(1000, 39)"
      ]
     },
     "execution_count": 4,
     "metadata": {},
     "output_type": "execute_result"
    }
   ],
   "source": [
    "data.shape"
   ]
  },
  {
   "cell_type": "markdown",
   "id": "80d527b8",
   "metadata": {},
   "source": [
    "### If someone claims more than they paid in premiums, it may indicate suspicious behavior. This is normalized, unlike total claim amount which favors high-premium policies. Low risk of leakage, high interpretability."
   ]
  },
  {
   "cell_type": "code",
   "execution_count": 5,
   "id": "ae9f2c9a",
   "metadata": {},
   "outputs": [],
   "source": [
    "data['claim_severity_ratio'] = data['total_claim_amount'] / data['policy_annual_premium']"
   ]
  },
  {
   "cell_type": "markdown",
   "id": "bda88b13",
   "metadata": {},
   "source": [
    "### Helps identify unusual claim structures (e.g., 100% injury, no property damage).This can be predictive since fraudsters may inflate one part disproportionately."
   ]
  },
  {
   "cell_type": "code",
   "execution_count": 6,
   "id": "3d514a4f",
   "metadata": {},
   "outputs": [],
   "source": [
    "data['injury_ratio'] = data['injury_claim'] / data['total_claim_amount']\n",
    "data['property_ratio'] = data['property_claim'] / data['total_claim_amount']\n",
    "data['vehicle_ratio'] = data['vehicle_claim'] / data['total_claim_amount']"
   ]
  },
  {
   "cell_type": "code",
   "execution_count": 7,
   "id": "3489d2d4",
   "metadata": {},
   "outputs": [
    {
     "name": "stdout",
     "output_type": "stream",
     "text": [
      "Dropped column with the lowest variance: 'property_ratio'\n"
     ]
    }
   ],
   "source": [
    "# List of the ratio columns\n",
    "ratio_cols = ['injury_ratio', 'property_ratio', 'vehicle_ratio']\n",
    "\n",
    "# Calculate the variance of each column\n",
    "variances = data[ratio_cols].var()\n",
    "\n",
    "# Find the column name with the minimum variance\n",
    "col_to_drop = variances.idxmin()\n",
    "\n",
    "# Drop the column from the DataFrame\n",
    "data.drop(columns=col_to_drop, inplace=True)\n",
    "\n",
    "print(f\"Dropped column with the lowest variance: '{col_to_drop}'\")"
   ]
  },
  {
   "cell_type": "code",
   "execution_count": 8,
   "id": "bf9cd912",
   "metadata": {},
   "outputs": [
    {
     "name": "stdout",
     "output_type": "stream",
     "text": [
      "injury_ratio     0\n",
      "vehicle_ratio    0\n",
      "dtype: int64\n"
     ]
    }
   ],
   "source": [
    "# A quick check you can run\n",
    "print(data[['injury_ratio', 'vehicle_ratio']].isnull().sum())"
   ]
  },
  {
   "cell_type": "code",
   "execution_count": 9,
   "id": "77b3cbb1",
   "metadata": {},
   "outputs": [],
   "source": [
    "from dateutil.relativedelta import relativedelta\n",
    "\n",
    "# Function to calculate the number of full months between bind and incident\n",
    "def from_bind_to_incident_months(row):\n",
    "    diff = relativedelta(row['incident_date'], row['policy_bind_date'])\n",
    "    return diff.years * 12 + diff.months\n",
    "\n",
    "# Ensure date columns are datetime\n",
    "data['policy_bind_date'] = pd.to_datetime(data['policy_bind_date'])\n",
    "data['incident_date'] = pd.to_datetime(data['incident_date'])\n",
    "\n",
    "# Apply the function to compute safe tenure\n",
    "data['from_bind_to_incident_months'] = data.apply(from_bind_to_incident_months, axis=1)"
   ]
  },
  {
   "cell_type": "code",
   "execution_count": 10,
   "id": "4e9523f5",
   "metadata": {},
   "outputs": [
    {
     "data": {
      "text/plain": [
       "Index(['months_as_customer', 'age', 'policy_number', 'policy_bind_date',\n",
       "       'policy_state', 'policy_csl', 'policy_deductable',\n",
       "       'policy_annual_premium', 'umbrella_limit', 'insured_zip', 'insured_sex',\n",
       "       'insured_education_level', 'insured_occupation', 'insured_hobbies',\n",
       "       'insured_relationship', 'capital-gains', 'capital-loss',\n",
       "       'incident_date', 'incident_type', 'collision_type', 'incident_severity',\n",
       "       'authorities_contacted', 'incident_state', 'incident_city',\n",
       "       'incident_location', 'incident_hour_of_the_day',\n",
       "       'number_of_vehicles_involved', 'property_damage', 'bodily_injuries',\n",
       "       'witnesses', 'police_report_available', 'total_claim_amount',\n",
       "       'injury_claim', 'property_claim', 'vehicle_claim', 'auto_make',\n",
       "       'auto_model', 'auto_year', 'fraud_reported', 'claim_severity_ratio',\n",
       "       'injury_ratio', 'vehicle_ratio', 'from_bind_to_incident_months'],\n",
       "      dtype='object')"
      ]
     },
     "execution_count": 10,
     "metadata": {},
     "output_type": "execute_result"
    }
   ],
   "source": [
    "data.columns"
   ]
  },
  {
   "cell_type": "code",
   "execution_count": 11,
   "id": "745dac4a",
   "metadata": {},
   "outputs": [
    {
     "data": {
      "text/plain": [
       "(1000, 43)"
      ]
     },
     "execution_count": 11,
     "metadata": {},
     "output_type": "execute_result"
    }
   ],
   "source": [
    "data.shape"
   ]
  },
  {
   "cell_type": "code",
   "execution_count": 12,
   "id": "4a15082e",
   "metadata": {},
   "outputs": [],
   "source": [
    "cols_to_drop = [\n",
    "    'policy_state',\n",
    "    'incident_city',\n",
    "    'incident_location',\n",
    "    'auto_model',\n",
    "    'insured_education_level',\n",
    "    'policy_number',\n",
    "    'insured_zip',\n",
    "    'auto_year',\n",
    "    'injury_claim',\n",
    "    'property_claim',\n",
    "    'vehicle_claim',\n",
    "    'policy_bind_date',\n",
    "    'incident_date'\n",
    "]"
   ]
  },
  {
   "cell_type": "code",
   "execution_count": 13,
   "id": "cd851a35",
   "metadata": {},
   "outputs": [],
   "source": [
    "data.drop(columns=cols_to_drop, inplace=True)"
   ]
  },
  {
   "cell_type": "code",
   "execution_count": 14,
   "id": "dfaf967e",
   "metadata": {},
   "outputs": [
    {
     "data": {
      "text/plain": [
       "(1000, 30)"
      ]
     },
     "execution_count": 14,
     "metadata": {},
     "output_type": "execute_result"
    }
   ],
   "source": [
    "data.shape"
   ]
  },
  {
   "cell_type": "code",
   "execution_count": 15,
   "id": "af89951d",
   "metadata": {},
   "outputs": [
    {
     "name": "stdout",
     "output_type": "stream",
     "text": [
      "policy_deductable\n",
      "1000    351\n",
      "500     342\n",
      "2000    307\n",
      "Name: count, dtype: int64\n",
      "category\n"
     ]
    }
   ],
   "source": [
    "# Convert to categorical type\n",
    "data['policy_deductable'] = data['policy_deductable'].astype('category')\n",
    "\n",
    "# Optional: verify\n",
    "print(data['policy_deductable'].value_counts())\n",
    "print(data['policy_deductable'].dtype)"
   ]
  },
  {
   "cell_type": "code",
   "execution_count": 16,
   "id": "28c70625",
   "metadata": {},
   "outputs": [
    {
     "name": "stdout",
     "output_type": "stream",
     "text": [
      "Negative values before fix: 1\n",
      "Negative values after fix: 0\n"
     ]
    }
   ],
   "source": [
    "# Check for negative values\n",
    "print(\"Negative values before fix:\", (data['umbrella_limit'] < 0).sum())\n",
    "\n",
    "# Fix the known incorrect value\n",
    "data['umbrella_limit'] = data['umbrella_limit'].abs()\n",
    "\n",
    "# Optional: confirm it's fixed\n",
    "print(\"Negative values after fix:\", (data['umbrella_limit'] < 0).sum())"
   ]
  },
  {
   "cell_type": "code",
   "execution_count": 17,
   "id": "3591f3cd",
   "metadata": {},
   "outputs": [
    {
     "data": {
      "text/plain": [
       "(1000, 30)"
      ]
     },
     "execution_count": 17,
     "metadata": {},
     "output_type": "execute_result"
    }
   ],
   "source": [
    "data.shape"
   ]
  },
  {
   "cell_type": "code",
   "execution_count": 18,
   "id": "cccb8886",
   "metadata": {},
   "outputs": [
    {
     "data": {
      "text/plain": [
       "array(['Side Collision', '?', 'Rear Collision', 'Front Collision'],\n",
       "      dtype=object)"
      ]
     },
     "execution_count": 18,
     "metadata": {},
     "output_type": "execute_result"
    }
   ],
   "source": [
    "data['collision_type'].unique()"
   ]
  },
  {
   "cell_type": "code",
   "execution_count": 19,
   "id": "cc6c1c56",
   "metadata": {},
   "outputs": [
    {
     "data": {
      "text/plain": [
       "array(['YES', '?', 'NO'], dtype=object)"
      ]
     },
     "execution_count": 19,
     "metadata": {},
     "output_type": "execute_result"
    }
   ],
   "source": [
    "data['property_damage'].unique()"
   ]
  },
  {
   "cell_type": "code",
   "execution_count": 20,
   "id": "4972cfc3",
   "metadata": {},
   "outputs": [
    {
     "name": "stdout",
     "output_type": "stream",
     "text": [
      "collision_type\n",
      "Rear Collision     292\n",
      "Side Collision     276\n",
      "Front Collision    254\n",
      "Unknown            178\n",
      "Name: count, dtype: int64\n",
      "property_damage\n",
      "Unknown    360\n",
      "NO         338\n",
      "YES        302\n",
      "Name: count, dtype: int64\n",
      "police_report_available\n",
      "Unknown    343\n",
      "NO         343\n",
      "YES        314\n",
      "Name: count, dtype: int64\n"
     ]
    }
   ],
   "source": [
    "# Replace '?' with 'Unknown' in both columns\n",
    "data['collision_type'] = data['collision_type'].replace('?', 'Unknown')\n",
    "data['property_damage'] = data['property_damage'].replace('?', 'Unknown')\n",
    "data['police_report_available'] = data['police_report_available'].replace('?', 'Unknown')\n",
    "\n",
    "# Optional: check counts\n",
    "print(data['collision_type'].value_counts())\n",
    "print(data['property_damage'].value_counts())\n",
    "print(data['police_report_available'].value_counts())"
   ]
  },
  {
   "cell_type": "markdown",
   "id": "7ec2f125",
   "metadata": {},
   "source": [
    "### Try adding authorities_contacted column to the data later"
   ]
  },
  {
   "cell_type": "code",
   "execution_count": 21,
   "id": "2fbc4f96",
   "metadata": {},
   "outputs": [
    {
     "data": {
      "text/plain": [
       "(1000, 30)"
      ]
     },
     "execution_count": 21,
     "metadata": {},
     "output_type": "execute_result"
    }
   ],
   "source": [
    "data.shape"
   ]
  },
  {
   "cell_type": "code",
   "execution_count": 22,
   "id": "36cc6070",
   "metadata": {},
   "outputs": [
    {
     "name": "stdout",
     "output_type": "stream",
     "text": [
      "policy_csl: 3 unique values\n",
      "policy_deductable: 3 unique values\n",
      "insured_sex: 2 unique values\n",
      "insured_occupation: 14 unique values\n",
      "insured_hobbies: 20 unique values\n",
      "insured_relationship: 6 unique values\n",
      "incident_type: 4 unique values\n",
      "collision_type: 4 unique values\n",
      "incident_severity: 4 unique values\n",
      "authorities_contacted: 4 unique values\n",
      "incident_state: 7 unique values\n",
      "property_damage: 3 unique values\n",
      "police_report_available: 3 unique values\n",
      "auto_make: 14 unique values\n",
      "fraud_reported: 2 unique values\n"
     ]
    }
   ],
   "source": [
    "# Select only categorical columns\n",
    "cat_cols = data.select_dtypes(include=['object', 'category']).columns\n",
    "\n",
    "# Print number of unique values in each categorical column\n",
    "for col in cat_cols:\n",
    "    print(f\"{col}: {data[col].nunique()} unique values\")"
   ]
  },
  {
   "cell_type": "code",
   "execution_count": 23,
   "id": "0da228d1",
   "metadata": {},
   "outputs": [
    {
     "name": "stdout",
     "output_type": "stream",
     "text": [
      "Original hobbies vs. new binary feature:\n",
      "  insured_hobbies  is_high_risk_hobby\n",
      "0        sleeping                   0\n",
      "1         reading                   0\n",
      "2     board-games                   0\n",
      "3     board-games                   0\n",
      "4     board-games                   0\n",
      "\n",
      "Value counts for 'is_high_risk_hobby':\n",
      "is_high_risk_hobby\n",
      "0    919\n",
      "1     81\n",
      "Name: count, dtype: int64\n"
     ]
    }
   ],
   "source": [
    "# Define the list of hobbies you want to flag\n",
    "high_fraud_hobbies = ['chess', 'cross-fit']\n",
    "\n",
    "# Create a new column 'is_high_risk_hobby'\n",
    "data['is_high_risk_hobby'] = data['insured_hobbies'].isin(high_fraud_hobbies).astype(int)\n",
    "\n",
    "\n",
    "# Print the top 5 rows of the original and new column to see the result\n",
    "print(\"Original hobbies vs. new binary feature:\")\n",
    "print(data[['insured_hobbies', 'is_high_risk_hobby']].head())\n",
    "\n",
    "# Check the value counts of the new column\n",
    "print(\"\\nValue counts for 'is_high_risk_hobby':\")\n",
    "print(data['is_high_risk_hobby'].value_counts())"
   ]
  },
  {
   "cell_type": "code",
   "execution_count": 24,
   "id": "41712582",
   "metadata": {},
   "outputs": [],
   "source": [
    "data.drop(columns='insured_hobbies', inplace=True)"
   ]
  },
  {
   "cell_type": "code",
   "execution_count": 25,
   "id": "56375f2f",
   "metadata": {},
   "outputs": [],
   "source": [
    "data['fraud_reported'] = data['fraud_reported'].map({'Y': 1, 'N': 0})"
   ]
  },
  {
   "cell_type": "code",
   "execution_count": 26,
   "id": "279ca52b",
   "metadata": {},
   "outputs": [
    {
     "data": {
      "text/plain": [
       "0    1\n",
       "1    1\n",
       "2    0\n",
       "3    1\n",
       "4    0\n",
       "Name: fraud_reported, dtype: int64"
      ]
     },
     "execution_count": 26,
     "metadata": {},
     "output_type": "execute_result"
    }
   ],
   "source": [
    "data['fraud_reported'].head()"
   ]
  },
  {
   "cell_type": "code",
   "execution_count": 27,
   "id": "f48232e7",
   "metadata": {},
   "outputs": [
    {
     "data": {
      "text/plain": [
       "array(['Major Damage', 'Minor Damage', 'Total Loss', 'Trivial Damage'],\n",
       "      dtype=object)"
      ]
     },
     "execution_count": 27,
     "metadata": {},
     "output_type": "execute_result"
    }
   ],
   "source": [
    "data['incident_severity'].unique()"
   ]
  },
  {
   "cell_type": "code",
   "execution_count": 28,
   "id": "0d5682e4",
   "metadata": {},
   "outputs": [
    {
     "name": "stdout",
     "output_type": "stream",
     "text": [
      "Original vs. Encoded Column:\n",
      "  incident_severity  incident_severity_encoded\n",
      "0      Major Damage                          2\n",
      "1      Minor Damage                          1\n",
      "2      Minor Damage                          1\n",
      "3      Major Damage                          2\n",
      "4      Minor Damage                          1\n",
      "5      Major Damage                          2\n",
      "6      Minor Damage                          1\n",
      "7        Total Loss                          3\n",
      "8        Total Loss                          3\n",
      "9        Total Loss                          3\n",
      "\n",
      "Value counts for the new encoded column:\n",
      "incident_severity_encoded\n",
      "1    354\n",
      "3    280\n",
      "2    276\n",
      "0     90\n",
      "Name: count, dtype: int64\n"
     ]
    }
   ],
   "source": [
    "# Create a dictionary to define the mapping\n",
    "severity_mapping = {\n",
    "    'Trivial Damage': 0,\n",
    "    'Minor Damage': 1,\n",
    "    'Major Damage': 2,\n",
    "    'Total Loss': 3\n",
    "}\n",
    "\n",
    "# Apply the mapping to the 'incident_severity' column\n",
    "data['incident_severity_encoded'] = data['incident_severity'].map(severity_mapping)\n",
    "\n",
    "# --- Verification ---\n",
    "# Display the original and newly encoded columns\n",
    "print(\"Original vs. Encoded Column:\")\n",
    "print(data[['incident_severity', 'incident_severity_encoded']].head(10))\n",
    "\n",
    "# Check the value counts of the new column\n",
    "print(\"\\nValue counts for the new encoded column:\")\n",
    "print(data['incident_severity_encoded'].value_counts())"
   ]
  },
  {
   "cell_type": "code",
   "execution_count": 29,
   "id": "01902e03",
   "metadata": {},
   "outputs": [],
   "source": [
    "data.drop(columns='incident_severity', inplace=True)"
   ]
  },
  {
   "cell_type": "code",
   "execution_count": 30,
   "id": "64b7f009",
   "metadata": {},
   "outputs": [
    {
     "name": "stdout",
     "output_type": "stream",
     "text": [
      "policy_csl: 3 unique values\n",
      "policy_deductable: 3 unique values\n",
      "insured_sex: 2 unique values\n",
      "insured_occupation: 14 unique values\n",
      "insured_relationship: 6 unique values\n",
      "incident_type: 4 unique values\n",
      "collision_type: 4 unique values\n",
      "authorities_contacted: 4 unique values\n",
      "incident_state: 7 unique values\n",
      "property_damage: 3 unique values\n",
      "police_report_available: 3 unique values\n",
      "auto_make: 14 unique values\n"
     ]
    }
   ],
   "source": [
    "# Select only categorical columns\n",
    "cat_cols = data.select_dtypes(include=['object', 'category']).columns\n",
    "\n",
    "# Print number of unique values in each categorical column\n",
    "for col in cat_cols:\n",
    "    print(f\"{col}: {data[col].nunique()} unique values\")"
   ]
  },
  {
   "cell_type": "code",
   "execution_count": 31,
   "id": "a3a7fae8",
   "metadata": {},
   "outputs": [],
   "source": [
    "# This assumes your DataFrame is named 'data'\n",
    "data['claim_x_tenure'] = data['total_claim_amount'] * data['from_bind_to_incident_months']"
   ]
  },
  {
   "cell_type": "code",
   "execution_count": 32,
   "id": "0cf11f72",
   "metadata": {},
   "outputs": [
    {
     "data": {
      "text/plain": [
       "Index(['months_as_customer', 'age', 'policy_csl', 'policy_deductable',\n",
       "       'policy_annual_premium', 'umbrella_limit', 'insured_sex',\n",
       "       'insured_occupation', 'insured_relationship', 'capital-gains',\n",
       "       'capital-loss', 'incident_type', 'collision_type',\n",
       "       'authorities_contacted', 'incident_state', 'incident_hour_of_the_day',\n",
       "       'number_of_vehicles_involved', 'property_damage', 'bodily_injuries',\n",
       "       'witnesses', 'police_report_available', 'total_claim_amount',\n",
       "       'auto_make', 'fraud_reported', 'claim_severity_ratio', 'injury_ratio',\n",
       "       'vehicle_ratio', 'from_bind_to_incident_months', 'is_high_risk_hobby',\n",
       "       'incident_severity_encoded', 'claim_x_tenure'],\n",
       "      dtype='object')"
      ]
     },
     "execution_count": 32,
     "metadata": {},
     "output_type": "execute_result"
    }
   ],
   "source": [
    "data.columns"
   ]
  },
  {
   "cell_type": "code",
   "execution_count": 34,
   "id": "75a304c4",
   "metadata": {},
   "outputs": [],
   "source": [
    "data.to_csv('/Users/sanchitwani/Documents/Insurance Fraud/3 Try/cleaned_3_insurance.csv', index=False)"
   ]
  },
  {
   "cell_type": "code",
   "execution_count": null,
   "id": "42968230",
   "metadata": {},
   "outputs": [],
   "source": []
  },
  {
   "cell_type": "code",
   "execution_count": null,
   "id": "fdcab07a",
   "metadata": {},
   "outputs": [],
   "source": []
  }
 ],
 "metadata": {
  "kernelspec": {
   "display_name": "python_env",
   "language": "python",
   "name": "python3"
  },
  "language_info": {
   "codemirror_mode": {
    "name": "ipython",
    "version": 3
   },
   "file_extension": ".py",
   "mimetype": "text/x-python",
   "name": "python",
   "nbconvert_exporter": "python",
   "pygments_lexer": "ipython3",
   "version": "3.12.5"
  }
 },
 "nbformat": 4,
 "nbformat_minor": 5
}
